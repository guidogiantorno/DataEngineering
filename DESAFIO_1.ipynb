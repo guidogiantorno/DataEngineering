{
 "cells": [
  {
   "cell_type": "code",
   "execution_count": null,
   "id": "1bfb5a0d",
   "metadata": {},
   "outputs": [],
   "source": [
    "import pandas as pd\n",
    "import requests\n",
    "import os\n",
    "import os\n",
    "from dotenv import load_dotenv"
   ]
  },
  {
   "cell_type": "code",
   "execution_count": null,
   "id": "2d6789f4",
   "metadata": {},
   "outputs": [],
   "source": [
    "load_dotenv()"
   ]
  },
  {
   "cell_type": "code",
   "execution_count": null,
   "id": "1415913a",
   "metadata": {},
   "outputs": [],
   "source": [
    "#https://data.cityofnewyork.us/Public-Safety/Motor-Vehicle-Collisions-Crashes/h9gi-nx95\n",
    "# Motor Vehicle Collisions - Crashes\n",
    "#https://dev.socrata.com/foundry/data.cityofnewyork.us/h9gi-nx95"
   ]
  },
  {
   "cell_type": "code",
   "execution_count": null,
   "id": "58659576",
   "metadata": {},
   "outputs": [],
   "source": [
    "endpoint = 'https://data.cityofnewyork.us/resource/h9gi-nx95.json'\n",
    "response = requests.get(endpoint)\n",
    "data = response.json()\n",
    "df = pd.json_normalize(data)"
   ]
  },
  {
   "cell_type": "code",
   "execution_count": null,
   "id": "0f0fa512",
   "metadata": {},
   "outputs": [],
   "source": [
    "df.head()"
   ]
  },
  {
   "cell_type": "code",
   "execution_count": null,
   "id": "1313fd4a",
   "metadata": {},
   "outputs": [],
   "source": [
    "df = df.iloc[:,[0,4,5]]\n",
    "df['crash_date'] = pd.to_datetime(df['crash_date'])\n"
   ]
  },
  {
   "cell_type": "code",
   "execution_count": null,
   "id": "91c66705",
   "metadata": {},
   "outputs": [],
   "source": [
    "df['crash_date'] = df['crash_date'].astype(str)\n",
    "df['number_of_persons_injured'] = df['number_of_persons_injured'].astype(int)\n",
    "df['number_of_persons_killed'] = df['number_of_persons_killed'].astype(int)\n",
    "#df['purchase'].astype(str).astype(int)"
   ]
  },
  {
   "cell_type": "code",
   "execution_count": null,
   "id": "89687b07",
   "metadata": {},
   "outputs": [],
   "source": [
    "df.head()"
   ]
  },
  {
   "cell_type": "code",
   "execution_count": null,
   "id": "98834668",
   "metadata": {},
   "outputs": [],
   "source": [
    "#Crear tabla en Amazon Redshift"
   ]
  },
  {
   "cell_type": "code",
   "execution_count": null,
   "id": "5503e44d",
   "metadata": {},
   "outputs": [],
   "source": [
    "#Connect to the cluster\n",
    "import redshift_connector"
   ]
  },
  {
   "cell_type": "code",
   "execution_count": null,
   "id": "6bb417e6",
   "metadata": {},
   "outputs": [],
   "source": [
    "conn = redshift_connector.connect(\n",
    "     host=os.getenv('host'),\n",
    "     database=os.getenv('database'),\n",
    "     port=5439,\n",
    "     user=os.getenv('user'),\n",
    "     password=os.getenv('password'),\n",
    "  )"
   ]
  },
  {
   "cell_type": "code",
   "execution_count": null,
   "id": "a7abcf72",
   "metadata": {},
   "outputs": [],
   "source": [
    "# Create a Cursor object\n",
    "cursor = conn.cursor()"
   ]
  },
  {
   "cell_type": "code",
   "execution_count": null,
   "id": "98f95208",
   "metadata": {},
   "outputs": [],
   "source": [
    "#Create Table\n",
    "create_table_sql = \"\"\"CREATE TABLE guidogiantorno_coderhouse.collisions (\n",
    "        crash_date varchar,\n",
    "        number_of_persons_injured int,\n",
    "        number_of_persons_killed int )\n",
    "        \"\"\"\n",
    "\n",
    "cursor.execute(create_table_sql)"
   ]
  },
  {
   "cell_type": "code",
   "execution_count": null,
   "id": "ede4ad2e",
   "metadata": {},
   "outputs": [],
   "source": [
    "#Insert Values\n",
    "\n",
    "# Define the SQL statement to insert data into the table\n",
    "insert_sql = \"\"\"\n",
    "    INSERT INTO guidogiantorno_coderhouse.collisions (crash_date, number_of_persons_injured, number_of_persons_killed)\n",
    "    VALUES (%s, %s, %s)\n",
    "\"\"\"\n",
    "\n",
    "# Generate the values to be inserted as a list of tuples\n",
    "values = [tuple(row) for row in df.values]\n",
    "\n",
    "# Execute the SQL statement to insert data into the table\n",
    "cursor.executemany(insert_sql, values)\n"
   ]
  },
  {
   "cell_type": "code",
   "execution_count": null,
   "id": "dad93da9",
   "metadata": {},
   "outputs": [],
   "source": [
    "# Commit the changes to make them permanent\n",
    "conn.commit()"
   ]
  },
  {
   "cell_type": "code",
   "execution_count": null,
   "id": "051374da",
   "metadata": {},
   "outputs": [],
   "source": [
    "# Query a table using the Cursor\n",
    "cursor.execute(\"select * from guidogiantorno_coderhouse.collisions\")"
   ]
  },
  {
   "cell_type": "code",
   "execution_count": null,
   "id": "25ba4ead",
   "metadata": {},
   "outputs": [],
   "source": []
  },
  {
   "cell_type": "code",
   "execution_count": null,
   "id": "8e005727",
   "metadata": {},
   "outputs": [],
   "source": []
  }
 ],
 "metadata": {
  "kernelspec": {
   "display_name": "Python 3",
   "language": "python",
   "name": "python3"
  },
  "language_info": {
   "codemirror_mode": {
    "name": "ipython",
    "version": 3
   },
   "file_extension": ".py",
   "mimetype": "text/x-python",
   "name": "python",
   "nbconvert_exporter": "python",
   "pygments_lexer": "ipython3",
   "version": "3.8.10"
  }
 },
 "nbformat": 4,
 "nbformat_minor": 5
}
