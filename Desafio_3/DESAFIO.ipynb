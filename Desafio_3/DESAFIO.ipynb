{
 "cells": [
  {
   "cell_type": "code",
   "execution_count": 1,
   "id": "1bfb5a0d",
   "metadata": {},
   "outputs": [
    {
     "data": {
      "text/plain": [
       "True"
      ]
     },
     "execution_count": 1,
     "metadata": {},
     "output_type": "execute_result"
    }
   ],
   "source": [
    "import pandas as pd\n",
    "import requests\n",
    "import os\n",
    "import os\n",
    "from dotenv import load_dotenv\n",
    "import redshift_connector\n",
    "load_dotenv()"
   ]
  },
  {
   "cell_type": "code",
   "execution_count": 4,
   "id": "58659576",
   "metadata": {},
   "outputs": [],
   "source": [
    "def api_call()\n",
    "    endpoint = 'https://data.cityofnewyork.us/resource/h9gi-nx95.json'\n",
    "    response = requests.get(endpoint)\n",
    "    data = response.json()\n",
    "    df = pd.json_normalize(data)\n",
    "    df = df.drop_duplicates()"
   ]
  },
  {
   "cell_type": "code",
   "execution_count": 6,
   "id": "1313fd4a",
   "metadata": {},
   "outputs": [],
   "source": [
    "#Selecting less columns and changind data types\n",
    "\n",
    "def data_transformation()\n",
    "    df = df.iloc[:,[0,4,5]]\n",
    "    df['crash_date'] = pd.to_datetime(df['crash_date'])\n",
    "    df['number_of_persons_injured'] =  pd.to_numeric(df['number_of_persons_injured'], errors=\"coerce\").fillna(0).astype('int64')\n",
    "    df['number_of_persons_killed'] =  pd.to_numeric(df['number_of_persons_killed'], errors=\"coerce\").fillna(0).astype('int64')\n",
    " \n",
    "    #Group data by day\n",
    "    df = df.groupby(by='crash_date').sum()\n",
    "    \n",
    "    df= df.reset_index()\n",
    "    \n",
    "    df['crash_date'] = df['crash_date'].astype(str)"
   ]
  },
  {
   "cell_type": "code",
   "execution_count": null,
   "id": "4b3c4824",
   "metadata": {},
   "outputs": [],
   "source": []
  },
  {
   "cell_type": "code",
   "execution_count": 11,
   "id": "91c66705",
   "metadata": {},
   "outputs": [],
   "source": [
    "def connect_to_cluster()\n",
    "    conn = redshift_connector.connect(\n",
    "     host=os.getenv('host'),\n",
    "     database=os.getenv('database'),\n",
    "     port=5439,\n",
    "     user=os.getenv('user'),\n",
    "     password=os.getenv('password'))\n",
    "    \n",
    "    # Create a Cursor object\n",
    "    cursor = conn.cursor()"
   ]
  },
  {
   "cell_type": "code",
   "execution_count": 15,
   "id": "a7abcf72",
   "metadata": {},
   "outputs": [],
   "source": [
    "def create_table()\n",
    "\n",
    "    #Create Table\n",
    "    create_table_sql = \"CREATE TABLE guidogiantorno_coderhouse.collisions4 (crash_date varchar,number_of_persons_injured int,number_of_persons_killed int) DISTKEY(crash_date) SORTKEY(crash_date);\"\n",
    "\n",
    "    cursor.execute(create_table_sql)\n",
    "    \n",
    "    # Delete everything from the table to avoid inserting multiple times\n",
    "    cursor.execute(\"delete from guidogiantorno_coderhouse.collisions4\")"
   ]
  },
  {
   "cell_type": "code",
   "execution_count": 21,
   "id": "ede4ad2e",
   "metadata": {},
   "outputs": [
    {
     "data": {
      "text/plain": [
       "<redshift_connector.cursor.Cursor at 0x1b6385e7e20>"
      ]
     },
     "execution_count": 21,
     "metadata": {},
     "output_type": "execute_result"
    }
   ],
   "source": [
    "def insert_values()\n",
    "    # Define the SQL statement to insert data into the table\n",
    "    insert_sql = \"\"\"\n",
    "        INSERT INTO guidogiantorno_coderhouse.collisions4 (crash_date, number_of_persons_injured, number_of_persons_killed)\n",
    "        VALUES (%s, %s, %s)\n",
    "    \"\"\"\n",
    "\n",
    "    # Generate the values to be inserted as a list of tuples\n",
    "    values = [tuple(row) for row in df.values]\n",
    "\n",
    "    # Execute the SQL statement to insert data into the table\n",
    "    cursor.executemany(insert_sql, values)\n",
    "    \n",
    "    # Commit the changes to make them permanent\n",
    "    conn.commit()\n"
   ]
  },
  {
   "cell_type": "code",
   "execution_count": 23,
   "id": "051374da",
   "metadata": {},
   "outputs": [
    {
     "data": {
      "text/plain": [
       "<redshift_connector.cursor.Cursor at 0x1b6385e7e20>"
      ]
     },
     "execution_count": 23,
     "metadata": {},
     "output_type": "execute_result"
    }
   ],
   "source": [
    "# Query a table using the Cursor\n",
    "cursor.execute(\"select * from guidogiantorno_coderhouse.collisions4\")"
   ]
  },
  {
   "cell_type": "code",
   "execution_count": null,
   "id": "25ba4ead",
   "metadata": {},
   "outputs": [],
   "source": []
  },
  {
   "cell_type": "code",
   "execution_count": null,
   "id": "8e005727",
   "metadata": {},
   "outputs": [],
   "source": []
  }
 ],
 "metadata": {
  "kernelspec": {
   "display_name": "Python 3",
   "language": "python",
   "name": "python3"
  },
  "language_info": {
   "codemirror_mode": {
    "name": "ipython",
    "version": 3
   },
   "file_extension": ".py",
   "mimetype": "text/x-python",
   "name": "python",
   "nbconvert_exporter": "python",
   "pygments_lexer": "ipython3",
   "version": "3.8.10"
  }
 },
 "nbformat": 4,
 "nbformat_minor": 5
}
